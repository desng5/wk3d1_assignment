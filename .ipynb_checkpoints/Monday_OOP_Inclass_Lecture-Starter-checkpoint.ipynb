{
 "cells": [
  {
   "cell_type": "markdown",
   "metadata": {},
   "source": [
    "# Object-Oriented-Programming (OOP)"
   ]
  },
  {
   "cell_type": "markdown",
   "metadata": {},
   "source": [
    "## Tasks Today:\n",
    "\n",
    "   \n",
    "\n",
    "1) <b>Creating a Class (Initializing/Declaring)</b> <br>\n",
    "2) <b>Using a Class (Instantiating)</b> <br>\n",
    " &nbsp;&nbsp;&nbsp;&nbsp; a) Creating One Instance <br>\n",
    " &nbsp;&nbsp;&nbsp;&nbsp; b) Creating Multiple Instances <br>\n",
    " &nbsp;&nbsp;&nbsp;&nbsp; c) In-Class Exercise #1 - Create a Class 'Car' and instantiate three different makes of cars <br>\n",
    "3) <b>The \\__init\\__() Method</b> <br>\n",
    " &nbsp;&nbsp;&nbsp;&nbsp; a) The 'self' Attribute <br>\n",
    "4) <b>Class Attributes</b> <br>\n",
    " &nbsp;&nbsp;&nbsp;&nbsp; a) Initializing Attributes <br>\n",
    " &nbsp;&nbsp;&nbsp;&nbsp; b) Setting an Attribute Outside of the \\__init\\__() Method <br>\n",
    " &nbsp;&nbsp;&nbsp;&nbsp; c) Setting Defaults for Attributes <br>\n",
    " &nbsp;&nbsp;&nbsp;&nbsp; d) Accessing Class Attributes <br>\n",
    " &nbsp;&nbsp;&nbsp;&nbsp; e) Changing Class Attributes <br>\n",
    " &nbsp;&nbsp;&nbsp;&nbsp; f) In-Class Exercise #2 - Update your 'Car' class with \\__init\\__() method and class attributes<br>\n",
    "5) <b>Class Methods</b> <br>\n",
    " &nbsp;&nbsp;&nbsp;&nbsp; a) Creating <br>\n",
    " &nbsp;&nbsp;&nbsp;&nbsp; b) Calling <br>\n",
    " &nbsp;&nbsp;&nbsp;&nbsp; c) Modifying an Attribute's Value Through a Method <br>\n",
    " &nbsp;&nbsp;&nbsp;&nbsp; d) Incrementing an Attribute's Value Through a Method <br>\n",
    " &nbsp;&nbsp;&nbsp;&nbsp; e) In-Class Exercise #3 - Update Car class with new methods <br>\n",
    "6) <b>Classes as Attributes</b> <br>\n",
    "8) <b>Exercises</b> <br>\n",
    " &nbsp;&nbsp;&nbsp;&nbsp; a) Exercise #1 - Turn the shopping cart program from yesterday into an object-oriented program <br>\n",
    "  &nbsp;&nbsp;&nbsp;&nbsp; a) Exercise #2 - Create an Animal class with Eat, Sleep, and Play methods <br>"
   ]
  },
  {
   "cell_type": "code",
   "execution_count": null,
   "metadata": {},
   "outputs": [],
   "source": []
  },
  {
   "cell_type": "markdown",
   "metadata": {},
   "source": [
    "#### Object-Oriented Programming"
   ]
  },
  {
   "cell_type": "markdown",
   "metadata": {},
   "source": [
    "Object-Oriented Programming (OOP) allows us to create programs so that that properties and behaviors are bundled into **objects**. OOP models real-world entities as software objects that have some data associated with them and can perform certain functions."
   ]
  },
  {
   "cell_type": "markdown",
   "metadata": {},
   "source": [
    "## Creating a Class (Initializing/Declaring)\n",
    "<p>When creating a class, function, or even a variable you are initializing that object. Initializing and Declaring occur at the same time in Python, whereas in lower level languages you have to declare an object before initializing it. This is the first step in the process of using a class.</p>"
   ]
  },
  {
   "cell_type": "code",
   "execution_count": null,
   "metadata": {},
   "outputs": [],
   "source": []
  },
  {
   "cell_type": "markdown",
   "metadata": {},
   "source": [
    "## Using a Class (Instantiating)\n",
    "<p>The process of creating a class is called <i>Instantiating</i>. Each time you create a variable of that type of class, it is referred to as an <i>Instance</i> of that class. This is the second step in the process of using a class.</p>"
   ]
  },
  {
   "cell_type": "code",
   "execution_count": null,
   "metadata": {},
   "outputs": [],
   "source": []
  },
  {
   "cell_type": "markdown",
   "metadata": {},
   "source": [
    "##### Creating One Instance"
   ]
  },
  {
   "cell_type": "code",
   "execution_count": null,
   "metadata": {},
   "outputs": [],
   "source": []
  },
  {
   "cell_type": "markdown",
   "metadata": {},
   "source": [
    "##### Creating Multiple Instances"
   ]
  },
  {
   "cell_type": "code",
   "execution_count": null,
   "metadata": {},
   "outputs": [],
   "source": []
  },
  {
   "cell_type": "markdown",
   "metadata": {},
   "source": [
    "##### Adding attributes to instances"
   ]
  },
  {
   "cell_type": "code",
   "execution_count": null,
   "metadata": {},
   "outputs": [],
   "source": []
  },
  {
   "cell_type": "markdown",
   "metadata": {},
   "source": [
    "##### In-Class Exercise #1 - Create a Class 'Car' and Instantiate three different car instances. Add a different make for each car."
   ]
  },
  {
   "cell_type": "code",
   "execution_count": null,
   "metadata": {},
   "outputs": [],
   "source": []
  },
  {
   "cell_type": "markdown",
   "metadata": {},
   "source": [
    "## The \\__init\\__() Method <br>\n",
    "<p>This method is used in almost every created class, and called only once upon the creation of the class instance. This method will initialize all variables needed for the object.</p>"
   ]
  },
  {
   "cell_type": "markdown",
   "metadata": {},
   "source": [
    "##### The 'self' Attribute <br>\n",
    "<p>This attribute is required to keep track of specific instance's attributes. Without the self attribute, the program would not know how to reference or keep track of an instance's attributes.</p>"
   ]
  },
  {
   "cell_type": "code",
   "execution_count": null,
   "metadata": {},
   "outputs": [],
   "source": []
  },
  {
   "cell_type": "code",
   "execution_count": null,
   "metadata": {},
   "outputs": [],
   "source": []
  },
  {
   "cell_type": "code",
   "execution_count": null,
   "metadata": {},
   "outputs": [],
   "source": []
  },
  {
   "cell_type": "markdown",
   "metadata": {},
   "source": [
    "## Class Attributes <br>\n",
    "<p>While variables are inside of a class, they are referred to as attributes and not variables. When someone says 'attribute' you know they're speaking about a class. Attributes can be initialized through the init method, or outside of it.</p>"
   ]
  },
  {
   "cell_type": "markdown",
   "metadata": {},
   "source": [
    "##### Initializing Attributes"
   ]
  },
  {
   "cell_type": "code",
   "execution_count": null,
   "metadata": {},
   "outputs": [],
   "source": []
  },
  {
   "cell_type": "markdown",
   "metadata": {},
   "source": [
    "##### Accessing Class Attributes"
   ]
  },
  {
   "cell_type": "code",
   "execution_count": null,
   "metadata": {
    "scrolled": true
   },
   "outputs": [],
   "source": [
    "# See Above"
   ]
  },
  {
   "cell_type": "markdown",
   "metadata": {},
   "source": [
    "##### Setting Defaults for Attributes"
   ]
  },
  {
   "cell_type": "code",
   "execution_count": null,
   "metadata": {},
   "outputs": [],
   "source": []
  },
  {
   "cell_type": "markdown",
   "metadata": {},
   "source": [
    "##### Changing Class Attributes <br>\n",
    "<p>Keep in mind there are global class attributes and then there are attributes only available to each class instance which won't effect other classes.</p>"
   ]
  },
  {
   "cell_type": "code",
   "execution_count": null,
   "metadata": {},
   "outputs": [],
   "source": []
  },
  {
   "cell_type": "code",
   "execution_count": null,
   "metadata": {},
   "outputs": [],
   "source": []
  },
  {
   "cell_type": "code",
   "execution_count": null,
   "metadata": {},
   "outputs": [],
   "source": []
  },
  {
   "cell_type": "markdown",
   "metadata": {},
   "source": [
    "##### In-Class Exercise 2 - Create an \\__init__ method for your Car class which takes in color and model with a default value for gas_level of 100. Your class should also have a class attribute for model. Once you have created the class, instantiate 3 different cars"
   ]
  },
  {
   "cell_type": "code",
   "execution_count": null,
   "metadata": {},
   "outputs": [],
   "source": []
  },
  {
   "cell_type": "markdown",
   "metadata": {},
   "source": [
    "## Class Methods <br>\n",
    "<p>While inside of a class, functions are referred to as 'methods'. If you hear someone mention methods, they're speaking about classes. Methods are essentially functions, but only callable on the instances of a class.</p>"
   ]
  },
  {
   "cell_type": "markdown",
   "metadata": {},
   "source": [
    "##### Creating"
   ]
  },
  {
   "cell_type": "code",
   "execution_count": null,
   "metadata": {},
   "outputs": [],
   "source": []
  },
  {
   "cell_type": "code",
   "execution_count": null,
   "metadata": {},
   "outputs": [],
   "source": []
  },
  {
   "cell_type": "markdown",
   "metadata": {},
   "source": [
    "##### Calling"
   ]
  },
  {
   "cell_type": "code",
   "execution_count": null,
   "metadata": {},
   "outputs": [],
   "source": []
  },
  {
   "cell_type": "markdown",
   "metadata": {},
   "source": [
    "##### Modifying an Attribute's Value Through a Method"
   ]
  },
  {
   "cell_type": "code",
   "execution_count": null,
   "metadata": {},
   "outputs": [],
   "source": []
  },
  {
   "cell_type": "code",
   "execution_count": null,
   "metadata": {},
   "outputs": [],
   "source": []
  },
  {
   "cell_type": "markdown",
   "metadata": {},
   "source": [
    "##### Incrementing an Attribute's Value Through a Method"
   ]
  },
  {
   "cell_type": "code",
   "execution_count": null,
   "metadata": {},
   "outputs": [],
   "source": []
  },
  {
   "cell_type": "markdown",
   "metadata": {},
   "source": [
    "##### In-Class Exercise #3 - Add two methods to your car class. One method called `drive` that will take in the number of miles and decrease that car's `gas_level` by 1 unit for every 5 miles. Another method called `fill_up` will take in gallons and increase the `gas_level` by 10 units for every gallon."
   ]
  },
  {
   "cell_type": "code",
   "execution_count": null,
   "metadata": {},
   "outputs": [],
   "source": []
  },
  {
   "cell_type": "markdown",
   "metadata": {},
   "source": [
    "## Classes as Attributes <br>\n",
    "<p>Classes can also be used as attributes within another class. This is useful in situations where you need to keep variables locally stored, instead of globally stored.</p>"
   ]
  },
  {
   "cell_type": "code",
   "execution_count": null,
   "metadata": {},
   "outputs": [],
   "source": []
  },
  {
   "cell_type": "code",
   "execution_count": null,
   "metadata": {},
   "outputs": [],
   "source": []
  },
  {
   "cell_type": "code",
   "execution_count": null,
   "metadata": {},
   "outputs": [],
   "source": []
  },
  {
   "cell_type": "markdown",
   "metadata": {},
   "source": [
    "# Exercises"
   ]
  },
  {
   "cell_type": "markdown",
   "metadata": {},
   "source": [
    "### Exercise 1 - Turn the shopping cart program into an object-oriented program"
   ]
  },
  {
   "cell_type": "code",
   "execution_count": 9,
   "metadata": {},
   "outputs": [
    {
     "name": "stdout",
     "output_type": "stream",
     "text": [
      "What's your name? des\n",
      "\n",
      "Select an option:\n",
      "1. Add item to cart\n",
      "2. Remove item from cart\n",
      "3. View cart\n",
      "4. Quit\n",
      "> 1\n",
      "\n",
      "Select a product 1-10:\n",
      "1. Apple ($0.5)\n",
      "2. Banana ($0.25)\n",
      "3. Orange ($0.75)\n",
      "4. Milk ($2.0)\n",
      "5. Paper Towel ($1.5)\n",
      "6. Strawberries ($3.5)\n",
      "7. Bread ($1.0)\n",
      "8. Chicken ($3.0)\n",
      "9. Beef ($3.0)\n",
      "10. Pork ($4.0)\n",
      "> 5\n",
      "Enter quantity: 3\n",
      "Added 3 Paper Towel(s) to your cart.\n",
      "\n",
      "Select an option:\n",
      "1. Add item to cart\n",
      "2. Remove item from cart\n",
      "3. View cart\n",
      "4. Quit\n",
      "> 1\n",
      "\n",
      "Select a product 1-10:\n",
      "1. Apple ($0.5)\n",
      "2. Banana ($0.25)\n",
      "3. Orange ($0.75)\n",
      "4. Milk ($2.0)\n",
      "5. Paper Towel ($1.5)\n",
      "6. Strawberries ($3.5)\n",
      "7. Bread ($1.0)\n",
      "8. Chicken ($3.0)\n",
      "9. Beef ($3.0)\n",
      "10. Pork ($4.0)\n",
      "> 2\n",
      "Enter quantity: 5\n",
      "Added 5 Banana(s) to your cart.\n",
      "\n",
      "Select an option:\n",
      "1. Add item to cart\n",
      "2. Remove item from cart\n",
      "3. View cart\n",
      "4. Quit\n",
      "> 3\n",
      "\n",
      "Showing what you've added\n",
      "Your cart:\n",
      "3 x Paper Towel ($4.5)\n",
      "5 x Banana ($1.25)\n",
      "Total: $5.75\n",
      "\n",
      "Select an option:\n",
      "1. Add item to cart\n",
      "2. Remove item from cart\n",
      "3. View cart\n",
      "4. Quit\n",
      "> 1\n",
      "\n",
      "Select a product 1-10:\n",
      "1. Apple ($0.5)\n",
      "2. Banana ($0.25)\n",
      "3. Orange ($0.75)\n",
      "4. Milk ($2.0)\n",
      "5. Paper Towel ($1.5)\n",
      "6. Strawberries ($3.5)\n",
      "7. Bread ($1.0)\n",
      "8. Chicken ($3.0)\n",
      "9. Beef ($3.0)\n",
      "10. Pork ($4.0)\n",
      "> 6\n",
      "Enter quantity: 1\n",
      "Added 1 Strawberries(s) to your cart.\n",
      "\n",
      "Select an option:\n",
      "1. Add item to cart\n",
      "2. Remove item from cart\n",
      "3. View cart\n",
      "4. Quit\n",
      "> 3\n",
      "\n",
      "Showing what you've added\n",
      "Your cart:\n",
      "3 x Paper Towel ($4.5)\n",
      "5 x Banana ($1.25)\n",
      "1 x Strawberries ($3.5)\n",
      "Total: $9.25\n",
      "\n",
      "Select an option:\n",
      "1. Add item to cart\n",
      "2. Remove item from cart\n",
      "3. View cart\n",
      "4. Quit\n",
      "> 4\n",
      "\n",
      "Thanks for shopping with us, des!\n",
      "Your cart:\n",
      "3 x Paper Towel ($4.5)\n",
      "5 x Banana ($1.25)\n",
      "1 x Strawberries ($3.5)\n",
      "Total: $9.25\n"
     ]
    }
   ],
   "source": [
    "class Product:\n",
    "    def __init__(self, name, price):\n",
    "        self.name = name\n",
    "        self.price = price\n",
    "\n",
    "class ShoppingCart:\n",
    "    def __init__(self, customer_name):\n",
    "        self.items = {}\n",
    "        self.customer_name = customer_name\n",
    "\n",
    "    def add_item(self, product, quantity):\n",
    "        if product.name in self.items:\n",
    "            self.items[product.name] += quantity\n",
    "        else:\n",
    "            self.items[product.name] = quantity\n",
    "        print(f\"Added {quantity} {product.name}(s) to your cart.\")\n",
    "\n",
    "    def remove_item(self, product, quantity):\n",
    "        if product.name not in self.items:\n",
    "            print(f\"{product.name} not found in your cart.\")\n",
    "        elif self.items[product.name] < quantity:\n",
    "            print(f\"Only {self.items[product.name]} {product.name}(s) in your cart.\")\n",
    "        else:\n",
    "            self.items[product.name] -= quantity\n",
    "            print(f\"Removed {quantity} {product.name}(s) from your cart.\")\n",
    "\n",
    "    def display_cart(self):\n",
    "        if not self.items:\n",
    "            print(\"Your cart is empty.\")\n",
    "        else:\n",
    "            print(\"Your cart:\")\n",
    "        \n",
    "        for item, quantity in self.items.items():\n",
    "            price = [p for p in products if p.name == item][0].price\n",
    "            print(f\"{quantity} x {item} (${quantity * price})\")\n",
    "        print(f\"Total: ${self.get_total(products)}\")\n",
    "\n",
    "    def get_total(self, products):\n",
    "        total = 0\n",
    "        for item, quantity in self.items.items():\n",
    "            price = [p for p in products if p.name == item][0].price\n",
    "            total += quantity * price\n",
    "        return total\n",
    "\n",
    "products = [\n",
    "    Product(\"Apple\", 0.50),\n",
    "    Product(\"Banana\", 0.25),\n",
    "    Product(\"Orange\", 0.75),\n",
    "    Product(\"Milk\", 2.00),\n",
    "    Product(\"Paper Towel\", 1.50),\n",
    "    Product(\"Strawberries\", 3.50),\n",
    "    Product(\"Bread\", 1.00),\n",
    "    Product(\"Chicken\", 3.00),\n",
    "    Product(\"Beef\", 3.00),\n",
    "    Product(\"Pork\", 4.00),\n",
    "\n",
    "]\n",
    "\n",
    "customer_name = input(\"What's your name? \")\n",
    "cart = ShoppingCart(customer_name)\n",
    "\n",
    "while True:\n",
    "    print(\"\\nSelect an option:\")\n",
    "    print(\"1. Add item to cart\")\n",
    "    print(\"2. Remove item from cart\")\n",
    "    print(\"3. View cart\")\n",
    "    print(\"4. Quit\")\n",
    "    choice = input(\"> \")\n",
    "\n",
    "    if choice == \"1\":\n",
    "        print(\"\\nSelect a product 1-10:\")\n",
    "        for i, product in enumerate(products):\n",
    "            print(f\"{i+1}. {product.name} (${product.price})\") #adding one to index so lists will start at 1 not 0\n",
    "        product_choice = int(input(\"> \"))\n",
    "        selected_product = products[product_choice - 1] #subtracting 1 from user's choice so that it correctly\n",
    "        quantity = int(input(\"Enter quantity: \")) \n",
    "        cart.add_item(selected_product, quantity)\n",
    "\n",
    "    elif choice == \"2\":\n",
    "        if not cart.items:\n",
    "            print(\"\\nYour cart is empty.\")\n",
    "        else:\n",
    "            print(\"\\nSelect a product to remove:\")\n",
    "            cart.display_cart()\n",
    "            print()\n",
    "            for i, item in enumerate(cart.items):\n",
    "                print(f\"{i+1}. {item}\")\n",
    "            item_choice = int(input(\"> \"))\n",
    "            selected_item = list(cart.items.keys())[item_choice - 1]\n",
    "            quantity = int(input(f\"How many {selected_item}(s) would you like to remove? \"))\n",
    "            cart.remove_item(Product(selected_item, 0), quantity)\n",
    "\n",
    "    elif choice == \"3\":\n",
    "        print(\"\\nShowing what you've added\")\n",
    "        cart.display_cart()\n",
    "\n",
    "    elif choice == \"4\":\n",
    "        print(f\"\\nThanks for shopping with us, {customer_name}!\")\n",
    "        cart.display_cart()\n",
    "        break\n",
    "\n",
    "    else:\n",
    "        print(\"\\nInvalid choice. Please try again.\")\n",
    "\n"
   ]
  },
  {
   "cell_type": "markdown",
   "metadata": {},
   "source": [
    "### Exercise 2 - Write a Python class for an Animal that has a name and energy attributes. The animal class should also have methods for eat, sleep, and play that will take in an integer and increase/decrease the energy of the animal with a formatted print statement"
   ]
  },
  {
   "cell_type": "code",
   "execution_count": null,
   "metadata": {},
   "outputs": [],
   "source": [
    "# Example 1\n",
    "# buddy = Animal('Buddy', 10)\n",
    "# buddy.play(5) -> \"Buddy is playing for 5 minutes. His energy is now 5\"\n",
    "# buddy.sleep(10) -> \"Buddy is sleeping for 5 minutes. His energy is now 15\""
   ]
  },
  {
   "cell_type": "code",
   "execution_count": 5,
   "metadata": {},
   "outputs": [],
   "source": [
    "class Animal:\n",
    "    def __init__(self, name, energy):\n",
    "        self.name = name\n",
    "        self.energy = energy\n",
    "    \n",
    "    def eat(self, amount_food):\n",
    "        self.energy += amount_food\n",
    "        print(f\"{self.name} is {amount_food} units of food. Its energy is now {self.energy}\")\n",
    "        \n",
    "    def sleep(self, mins_sleeping):\n",
    "        self.energy += mins_sleeping\n",
    "        print(f\"{self.name} is sleeping for {mins_sleeping} minutes. Its energy is now {self.energy}\")\n",
    "        \n",
    "    def play(self, mins_playing):\n",
    "        self.energy -= mins_playing\n",
    "        print(f\"{self.name} is playing for {mins_playing} minutes. Its energy is now {self.energy}\")\n",
    "        \n",
    "    "
   ]
  },
  {
   "cell_type": "code",
   "execution_count": 6,
   "metadata": {},
   "outputs": [
    {
     "name": "stdout",
     "output_type": "stream",
     "text": [
      "Ralph is 5 units of food. Its energy is now 10\n",
      "Ralph is sleeping for 10 minutes. Its energy is now 20\n",
      "Ralph is playing for 8 minutes. Its energy is now 12\n"
     ]
    }
   ],
   "source": [
    "ralph = Animal('Ralph', 5)\n",
    "ralph.eat(5)\n",
    "ralph.sleep(10)\n",
    "ralph.play(8)"
   ]
  },
  {
   "cell_type": "code",
   "execution_count": null,
   "metadata": {},
   "outputs": [],
   "source": []
  }
 ],
 "metadata": {
  "kernelspec": {
   "display_name": "Python 3 (ipykernel)",
   "language": "python",
   "name": "python3"
  },
  "language_info": {
   "codemirror_mode": {
    "name": "ipython",
    "version": 3
   },
   "file_extension": ".py",
   "mimetype": "text/x-python",
   "name": "python",
   "nbconvert_exporter": "python",
   "pygments_lexer": "ipython3",
   "version": "3.10.9"
  }
 },
 "nbformat": 4,
 "nbformat_minor": 2
}
